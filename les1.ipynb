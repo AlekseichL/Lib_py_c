{
  "nbformat": 4,
  "nbformat_minor": 0,
  "metadata": {
    "colab": {
      "name": "les1.ipynb",
      "provenance": [],
      "collapsed_sections": []
    },
    "kernelspec": {
      "name": "python3",
      "display_name": "Python 3"
    },
    "language_info": {
      "name": "python"
    }
  },
  "cells": [
    {
      "cell_type": "markdown",
      "metadata": {
        "id": "SU7tU9stULVW"
      },
      "source": [
        "1. Приведите по 2 примера, когда лучше максимизировать Precision, а когда Recall.\\\n",
        "Precision: в медицине при назначении радикальных методов лечени, при оценке признаков состава преступлени для установлении вины подсудимого\\\n",
        "Recall: в банковской сфере при максимизация прибыли от выдачи кредитов, в жд отрасли при поиске дефектов подвижного состава"
      ]
    },
    {
      "cell_type": "markdown",
      "metadata": {
        "id": "b4Dk1Tx4Uc76"
      },
      "source": [
        "2. Почему мы используем F-меру, почему, например, нельзя просто взять среднее от Precision и Recall?\\\n",
        "F-мера используется для достигения максимума при полноте и точности. Среднее от Precision и Recall усложняет интерпретацию  и не позволет сопоставить с бизнес-целями модели (исключение когда Precision и Recall придается равный вес)"
      ]
    }
  ]
}